{
 "cells": [
  {
   "cell_type": "code",
   "execution_count": 1,
   "metadata": {},
   "outputs": [],
   "source": [
    "from bs4 import BeautifulSoup\n",
    "import html5lib\n",
    "import requests\n",
    "import pandas as pd"
   ]
  },
  {
   "cell_type": "code",
   "execution_count": 2,
   "metadata": {},
   "outputs": [],
   "source": [
    "html_data = requests.get('https://web.archive.org/web/20200318083015/https://en.wikipedia.org/wiki/List_of_largest_banks')"
   ]
  },
  {
   "cell_type": "code",
   "execution_count": 3,
   "metadata": {},
   "outputs": [],
   "source": [
    "html_data2 = html_data.text"
   ]
  },
  {
   "cell_type": "code",
   "execution_count": 47,
   "metadata": {},
   "outputs": [
    {
     "name": "stdout",
     "output_type": "stream",
     "text": [
      "390.934\n",
      "\n"
     ]
    }
   ],
   "source": [
    "# Create an instance of BeautifulSoup\n",
    "soup = BeautifulSoup(html_data2) \n",
    "# Find all accepts second parameter which is class_ which will allow you to specify which class you are interested with.\n",
    "tags = soup.find_all('tbody')[2].find_all('tr')\n",
    "for tag in tags:\n",
    "  col = tag.find_all('td')\n",
    "  if len(col) != 0:\n",
    "    bank_name = col[1].find_all('a')[1].text\n",
    "    bank_cap = col[-1].text\n",
    "    break\n",
    "# BeautifulSoap is very specific so like need mo rin i-inspect ang html sa webpage inspector tool sa mga browsers in order to get the tag of the info that you are very interested. \n",
    "# Stopped @ 31.33"
   ]
  },
  {
   "cell_type": "code",
   "execution_count": null,
   "metadata": {},
   "outputs": [],
   "source": []
  }
 ],
 "metadata": {
  "kernelspec": {
   "display_name": "Python 3",
   "language": "python",
   "name": "python3"
  },
  "language_info": {
   "codemirror_mode": {
    "name": "ipython",
    "version": 3
   },
   "file_extension": ".py",
   "mimetype": "text/x-python",
   "name": "python",
   "nbconvert_exporter": "python",
   "pygments_lexer": "ipython3",
   "version": "3.11.1"
  },
  "orig_nbformat": 4
 },
 "nbformat": 4,
 "nbformat_minor": 2
}
